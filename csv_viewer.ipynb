{
 "cells": [
  {
   "cell_type": "code",
   "execution_count": null,
   "id": "c16251eb",
   "metadata": {},
   "outputs": [],
   "source": [
    "import pandas as pd"
   ]
  },
  {
   "cell_type": "code",
   "execution_count": null,
   "id": "ac262508",
   "metadata": {},
   "outputs": [],
   "source": [
    "# Displaying Team Stats Per 100 Poss.csv\n",
    "Team_Stats_Per_100_Poss = pd.read_csv(r'/Users/ayaanbaig/Desktop/HomeCourt_AI/nba_data/Team Stats Per 100 Poss.csv')\n",
    "Team_Stats_Per_100_Poss"
   ]
  },
  {
   "cell_type": "code",
   "execution_count": null,
   "id": "c3d00dc0",
   "metadata": {},
   "outputs": [],
   "source": [
    "# Displaying End of Season Teams (Voting).csv\n",
    "End_of_Season_Teams__Voting_ = pd.read_csv(r'/Users/ayaanbaig/Desktop/HomeCourt_AI/nba_data/End of Season Teams (Voting).csv')\n",
    "End_of_Season_Teams__Voting_"
   ]
  },
  {
   "cell_type": "code",
   "execution_count": null,
   "id": "333977ab",
   "metadata": {},
   "outputs": [],
   "source": [
    "# Displaying Team Totals.csv\n",
    "Team_Totals = pd.read_csv(r'/Users/ayaanbaig/Desktop/HomeCourt_AI/nba_data/Team Totals.csv')\n",
    "Team_Totals"
   ]
  },
  {
   "cell_type": "code",
   "execution_count": null,
   "id": "b6e2930a",
   "metadata": {},
   "outputs": [],
   "source": [
    "# Displaying Player Per Game.csv\n",
    "Player_Per_Game = pd.read_csv(r'/Users/ayaanbaig/Desktop/HomeCourt_AI/nba_data/Player Per Game.csv')\n",
    "Player_Per_Game"
   ]
  },
  {
   "cell_type": "code",
   "execution_count": null,
   "id": "b6d94409",
   "metadata": {},
   "outputs": [],
   "source": [
    "# Displaying Advanced.csv\n",
    "Advanced = pd.read_csv(r'/Users/ayaanbaig/Desktop/HomeCourt_AI/nba_data/Advanced.csv')\n",
    "Advanced"
   ]
  },
  {
   "cell_type": "code",
   "execution_count": null,
   "id": "f78a94c9",
   "metadata": {},
   "outputs": [],
   "source": [
    "# Displaying End of Season Teams.csv\n",
    "End_of_Season_Teams = pd.read_csv(r'/Users/ayaanbaig/Desktop/HomeCourt_AI/nba_data/End of Season Teams.csv')\n",
    "End_of_Season_Teams"
   ]
  },
  {
   "cell_type": "code",
   "execution_count": null,
   "id": "22587e6e",
   "metadata": {},
   "outputs": [],
   "source": [
    "# Displaying Opponent Stats Per 100 Poss.csv\n",
    "Opponent_Stats_Per_100_Poss = pd.read_csv(r'/Users/ayaanbaig/Desktop/HomeCourt_AI/nba_data/Opponent Stats Per 100 Poss.csv')\n",
    "Opponent_Stats_Per_100_Poss"
   ]
  },
  {
   "cell_type": "code",
   "execution_count": null,
   "id": "2aa0243e",
   "metadata": {},
   "outputs": [],
   "source": [
    "# Displaying Player Career Info.csv\n",
    "Player_Career_Info = pd.read_csv(r'/Users/ayaanbaig/Desktop/HomeCourt_AI/nba_data/Player Career Info.csv')\n",
    "Player_Career_Info"
   ]
  },
  {
   "cell_type": "code",
   "execution_count": null,
   "id": "dc362371",
   "metadata": {},
   "outputs": [],
   "source": [
    "# Displaying Player Totals.csv\n",
    "Player_Totals = pd.read_csv(r'/Users/ayaanbaig/Desktop/HomeCourt_AI/nba_data/Player Totals.csv')\n",
    "Player_Totals"
   ]
  },
  {
   "cell_type": "code",
   "execution_count": null,
   "id": "a20ff0a7",
   "metadata": {},
   "outputs": [],
   "source": [
    "# Displaying Player Play By Play.csv\n",
    "Player_Play_By_Play = pd.read_csv(r'/Users/ayaanbaig/Desktop/HomeCourt_AI/nba_data/Player Play By Play.csv')\n",
    "Player_Play_By_Play"
   ]
  },
  {
   "cell_type": "code",
   "execution_count": null,
   "id": "7c5ae36a",
   "metadata": {},
   "outputs": [],
   "source": [
    "# Displaying Player Directory.csv\n",
    "Player_Directory = pd.read_csv(r'/Users/ayaanbaig/Desktop/HomeCourt_AI/nba_data/Player Directory.csv')\n",
    "Player_Directory"
   ]
  },
  {
   "cell_type": "code",
   "execution_count": null,
   "id": "a2f078f3",
   "metadata": {},
   "outputs": [],
   "source": [
    "# Displaying Player Season Info.csv\n",
    "Player_Season_Info = pd.read_csv(r'/Users/ayaanbaig/Desktop/HomeCourt_AI/nba_data/Player Season Info.csv')\n",
    "Player_Season_Info"
   ]
  },
  {
   "cell_type": "code",
   "execution_count": null,
   "id": "7e56027f",
   "metadata": {},
   "outputs": [],
   "source": [
    "# Displaying All-Star Selections.csv\n",
    "All_Star_Selections = pd.read_csv(r'/Users/ayaanbaig/Desktop/HomeCourt_AI/nba_data/All-Star Selections.csv')\n",
    "All_Star_Selections"
   ]
  },
  {
   "cell_type": "code",
   "execution_count": null,
   "id": "d6250d58",
   "metadata": {},
   "outputs": [],
   "source": [
    "# Displaying Team Abbrev.csv\n",
    "Team_Abbrev = pd.read_csv(r'/Users/ayaanbaig/Desktop/HomeCourt_AI/nba_data/Team Abbrev.csv')\n",
    "Team_Abbrev"
   ]
  },
  {
   "cell_type": "code",
   "execution_count": null,
   "id": "afc1e692",
   "metadata": {},
   "outputs": [],
   "source": [
    "# Displaying Per 36 Minutes.csv\n",
    "Per_36_Minutes = pd.read_csv(r'/Users/ayaanbaig/Desktop/HomeCourt_AI/nba_data/Per 36 Minutes.csv')\n",
    "Per_36_Minutes"
   ]
  },
  {
   "cell_type": "code",
   "execution_count": null,
   "id": "79df9972",
   "metadata": {},
   "outputs": [],
   "source": [
    "# Displaying Opponent Stats Per Game.csv\n",
    "Opponent_Stats_Per_Game = pd.read_csv(r'/Users/ayaanbaig/Desktop/HomeCourt_AI/nba_data/Opponent Stats Per Game.csv')\n",
    "Opponent_Stats_Per_Game"
   ]
  },
  {
   "cell_type": "code",
   "execution_count": null,
   "id": "aef7c53a",
   "metadata": {},
   "outputs": [],
   "source": [
    "# Displaying Team Summaries.csv\n",
    "Team_Summaries = pd.read_csv(r'/Users/ayaanbaig/Desktop/HomeCourt_AI/nba_data/Team Summaries.csv')\n",
    "Team_Summaries"
   ]
  },
  {
   "cell_type": "code",
   "execution_count": null,
   "id": "a1f7f834",
   "metadata": {},
   "outputs": [],
   "source": [
    "# Displaying Player Shooting.csv\n",
    "Player_Shooting = pd.read_csv(r'/Users/ayaanbaig/Desktop/HomeCourt_AI/nba_data/Player Shooting.csv')\n",
    "Player_Shooting"
   ]
  },
  {
   "cell_type": "code",
   "execution_count": null,
   "id": "737b6148",
   "metadata": {},
   "outputs": [],
   "source": [
    "# Displaying Team Stats Per Game.csv\n",
    "Team_Stats_Per_Game = pd.read_csv(r'/Users/ayaanbaig/Desktop/HomeCourt_AI/nba_data/Team Stats Per Game.csv')\n",
    "Team_Stats_Per_Game"
   ]
  },
  {
   "cell_type": "code",
   "execution_count": null,
   "id": "62c57fd5",
   "metadata": {},
   "outputs": [],
   "source": [
    "# Displaying Per 100 Poss.csv\n",
    "Per_100_Poss = pd.read_csv(r'/Users/ayaanbaig/Desktop/HomeCourt_AI/nba_data/Per 100 Poss.csv')\n",
    "Per_100_Poss"
   ]
  },
  {
   "cell_type": "code",
   "execution_count": null,
   "id": "1fab185f",
   "metadata": {},
   "outputs": [],
   "source": [
    "# Displaying Opponent Totals.csv\n",
    "Opponent_Totals = pd.read_csv(r'/Users/ayaanbaig/Desktop/HomeCourt_AI/nba_data/Opponent Totals.csv')\n",
    "Opponent_Totals"
   ]
  },
  {
   "cell_type": "code",
   "execution_count": null,
   "id": "ca28aef1",
   "metadata": {},
   "outputs": [],
   "source": [
    "# Displaying Player Award Shares.csv\n",
    "Player_Award_Shares = pd.read_csv(r'/Users/ayaanbaig/Desktop/HomeCourt_AI/nba_data/Player Award Shares.csv')\n",
    "Player_Award_Shares"
   ]
  }
 ],
 "metadata": {},
 "nbformat": 4,
 "nbformat_minor": 5
}
